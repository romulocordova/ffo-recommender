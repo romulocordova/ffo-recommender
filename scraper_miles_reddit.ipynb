{
 "cells": [
  {
   "cell_type": "code",
   "execution_count": null,
   "id": "3e48b54d",
   "metadata": {},
   "outputs": [],
   "source": [
    "##!pip install pandas\n",
    "##!pip install pickle"
   ]
  },
  {
   "cell_type": "code",
   "execution_count": 1,
   "id": "e5c27d58",
   "metadata": {},
   "outputs": [],
   "source": [
    "import pandas as pd\n",
    "import pickle\n",
    "from scraper import bands_from_title, bands_from_selftext"
   ]
  },
  {
   "cell_type": "code",
   "execution_count": 2,
   "id": "7048d09a",
   "metadata": {},
   "outputs": [],
   "source": [
    "# Cargar el DataFrame desde posts_filtrados.pkl\n",
    "with open(\"posts_filtrados.pkl\", \"rb\") as f:\n",
    "    posts = pickle.load(f)\n",
    "\n",
    "df = pd.DataFrame(posts)"
   ]
  },
  {
   "cell_type": "code",
   "execution_count": 3,
   "id": "7c250093",
   "metadata": {},
   "outputs": [],
   "source": [
    "df['bandas_title'] = df['title'].apply(bands_from_title)\n",
    "df['bandas_body'] = df['selftext'].apply(bands_from_selftext)\n",
    "\n",
    "# Combinamos: si hay bandas en el title, usamos esas; si no, usamos las del cuerpo\n",
    "df['bandas'] = df.apply(lambda row: row['bandas_title'] or row['bandas_body'], axis=1)"
   ]
  },
  {
   "cell_type": "code",
   "execution_count": 4,
   "id": "6415d5de",
   "metadata": {},
   "outputs": [
    {
     "name": "stdout",
     "output_type": "stream",
     "text": [
      "🎸 Posts con bandas extraídas: 567 de 670\n"
     ]
    }
   ],
   "source": [
    "df_con_bandas = df[df['bandas'].apply(lambda x: isinstance(x, list) and len(x) > 0)]\n",
    "print(f\"🎸 Posts con bandas extraídas: {len(df_con_bandas)} de {len(df)}\")"
   ]
  }
 ],
 "metadata": {
  "kernelspec": {
   "display_name": "base",
   "language": "python",
   "name": "python3"
  },
  "language_info": {
   "codemirror_mode": {
    "name": "ipython",
    "version": 3
   },
   "file_extension": ".py",
   "mimetype": "text/x-python",
   "name": "python",
   "nbconvert_exporter": "python",
   "pygments_lexer": "ipython3",
   "version": "3.11.5"
  }
 },
 "nbformat": 4,
 "nbformat_minor": 5
}
